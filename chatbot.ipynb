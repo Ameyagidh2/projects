{
 "cells": [
  {
   "cell_type": "code",
   "execution_count": null,
   "metadata": {
    "colab": {
     "base_uri": "https://localhost:8080/"
    },
    "id": "JZKF4wTtYBfW",
    "outputId": "1dd822e3-0ff4-44c5-e107-556484494e7c",
    "scrolled": true
   },
   "outputs": [],
   "source": [
    "pip install chatterbot\n",
    "#pip install chatterbot==1.0.0\n",
    "#pip install SQLAlchemy==1.2\n",
    "#pip install chatterbot-corpus==1.2.0\n",
    "pip install chatterbot==1.0.0\n",
    "pip install chatterbot-corpus==1.2.0\n",
    "pip install SQLAlchemy==1.2"
   ]
  },
  {
   "cell_type": "code",
   "execution_count": 1,
   "metadata": {
    "id": "RlneHFWwYicM"
   },
   "outputs": [],
   "source": [
    "# function to create the chatbot\n",
    "# we have the read_only to false so the chatbot learns from the user input as \n",
    "def create_bot(name):\n",
    "    from chatterbot import ChatBot\n",
    "    Bot = ChatBot(name = name,\n",
    "                  read_only = False,                  \n",
    "                  logic_adapters = [\"chatterbot.logic.BestMatch\"],                 \n",
    "                  storage_adapter = \"chatterbot.storage.SQLStorageAdapter\")\n",
    "    return Bot\n",
    "\n",
    "# function to train the bot with a variety of topics\n",
    "# the language we have chosen is english\n",
    "# we can train the bot for other languages as well\n",
    "def train_all_data(Bot):\n",
    "    from chatterbot.trainers import ChatterBotCorpusTrainer\n",
    "    corpus_trainer = ChatterBotCorpusTrainer(Bot)\n",
    "    corpus_trainer.train(\"chatterbot.corpus.english\")\n",
    "\n",
    "# function to train the bot with custom data\n",
    "# it uses ListTrainer to train data from lists \n",
    "def custom_train(Bot, conversation):\n",
    "    from chatterbot.trainers import ListTrainer\n",
    "    trainer = ListTrainer(Bot)\n",
    "    trainer.train(conversation)\n",
    "\n",
    "# function to start and take responses from the chatbot\n",
    "# the chatbot stays running unless a word is typed from the bye_list \n",
    "def start_chatbot(Bot):\n",
    "    print('\\033c')\n",
    "    print(\"Hello, I am Rose. How can I help you\")\n",
    "    bye_list = [\"bye Rose\", \"bye\", \"good bye\"] \n",
    "    \n",
    "    while (True):\n",
    "        user_input = input(\"me: \")   \n",
    "        if user_input.lower() in bye_list:\n",
    "            print(\"Rose: Good bye and have a Nice day\")\n",
    "            break\n",
    "        \n",
    "        response = Bot.get_response(user_input)\n",
    "        print(\"Rose:\", response)"
   ]
  },
  {
   "cell_type": "code",
   "execution_count": 2,
   "metadata": {
    "colab": {
     "base_uri": "https://localhost:8080/"
    },
    "id": "PZiOi-5Ocy5_",
    "outputId": "8c26faf7-62ad-4931-bc12-748058354344"
   },
   "outputs": [
    {
     "name": "stdout",
     "output_type": "stream",
     "text": [
      "\r",
      "Training ai.yml: [                    ] 1%"
     ]
    },
    {
     "name": "stderr",
     "output_type": "stream",
     "text": [
      "[nltk_data] Downloading package averaged_perceptron_tagger to\n",
      "[nltk_data]     C:\\Users\\ameya\\AppData\\Roaming\\nltk_data...\n",
      "[nltk_data]   Package averaged_perceptron_tagger is already up-to-\n",
      "[nltk_data]       date!\n",
      "[nltk_data] Downloading package punkt to\n",
      "[nltk_data]     C:\\Users\\ameya\\AppData\\Roaming\\nltk_data...\n",
      "[nltk_data]   Package punkt is already up-to-date!\n",
      "[nltk_data] Downloading package stopwords to\n",
      "[nltk_data]     C:\\Users\\ameya\\AppData\\Roaming\\nltk_data...\n",
      "[nltk_data]   Package stopwords is already up-to-date!\n"
     ]
    },
    {
     "name": "stdout",
     "output_type": "stream",
     "text": [
      "Training ai.yml: [####################] 100%\n",
      "Training botprofile.yml: [####################] 100%\n",
      "Training computers.yml: [####################] 100%\n",
      "Training conversations.yml: [####################] 100%\n",
      "Training emotion.yml: [####################] 100%\n",
      "Training food.yml: [####################] 100%\n",
      "Training gossip.yml: [####################] 100%\n",
      "Training greetings.yml: [####################] 100%\n",
      "Training health.yml: [####################] 100%\n",
      "Training history.yml: [####################] 100%\n",
      "Training humor.yml: [####################] 100%\n",
      "Training literature.yml: [####################] 100%\n",
      "Training money.yml: [####################] 100%\n",
      "Training movies.yml: [####################] 100%\n",
      "Training politics.yml: [####################] 100%\n",
      "Training psychology.yml: [####################] 100%\n",
      "Training science.yml: [####################] 100%\n",
      "Training sports.yml: [####################] 100%\n",
      "Training trivia.yml: [####################] 100%\n",
      "List Trainer: [####################] 100%\n"
     ]
    }
   ],
   "source": [
    "\n",
    "\n",
    "# create chatbot \n",
    "bot = create_bot(\"Rose\")\n",
    "\n",
    "# train all data\n",
    "\n",
    "train_all_data(bot)\n",
    "\n",
    "# train chatbot with your custom data\n",
    "owner_data = [\n",
    "    \"Who is the owner ?\",\n",
    "    \"Ameya Santosh Gidh\"\n",
    "]\n",
    "\n",
    "custom_train(bot,owner_data)\n"
   ]
  },
  {
   "cell_type": "code",
   "execution_count": null,
   "metadata": {},
   "outputs": [],
   "source": []
  },
  {
   "cell_type": "code",
   "execution_count": null,
   "metadata": {},
   "outputs": [
    {
     "name": "stdout",
     "output_type": "stream",
     "text": [
      "\u001bc\n",
      "Hello, I am Rose. How can I help you\n",
      "me: hello\n"
     ]
    },
    {
     "name": "stderr",
     "output_type": "stream",
     "text": [
      "No value for search_text was available on the provided input\n"
     ]
    },
    {
     "name": "stdout",
     "output_type": "stream",
     "text": [
      "Rose: Hi\n",
      "me: how are you\n"
     ]
    },
    {
     "name": "stderr",
     "output_type": "stream",
     "text": [
      "No value for search_text was available on the provided input\n"
     ]
    },
    {
     "name": "stdout",
     "output_type": "stream",
     "text": [
      "Rose: I am on the Internet.\n",
      "me: whos the owner?\n"
     ]
    },
    {
     "name": "stderr",
     "output_type": "stream",
     "text": [
      "No value for search_text was available on the provided input\n"
     ]
    },
    {
     "name": "stdout",
     "output_type": "stream",
     "text": [
      "Rose: the stockholders.\n",
      "me: Who is the owner ?\n"
     ]
    },
    {
     "name": "stderr",
     "output_type": "stream",
     "text": [
      "No value for search_text was available on the provided input\n"
     ]
    },
    {
     "name": "stdout",
     "output_type": "stream",
     "text": [
      "Rose: Ameya Santosh Gidh\n",
      "me: pokemon\n"
     ]
    },
    {
     "name": "stderr",
     "output_type": "stream",
     "text": [
      "No value for search_text was available on the provided input\n"
     ]
    },
    {
     "name": "stdout",
     "output_type": "stream",
     "text": [
      "Rose: What is AI?\n",
      "me: hi\n"
     ]
    },
    {
     "name": "stderr",
     "output_type": "stream",
     "text": [
      "No value for search_text was available on the provided input\n"
     ]
    },
    {
     "name": "stdout",
     "output_type": "stream",
     "text": [
      "Rose: How are you doing?\n"
     ]
    }
   ],
   "source": [
    "# start chatbot\n",
    "start_chatbot(bot)"
   ]
  },
  {
   "cell_type": "code",
   "execution_count": null,
   "metadata": {},
   "outputs": [],
   "source": []
  }
 ],
 "metadata": {
  "colab": {
   "name": "Ai Chatbot in Python.ipynb",
   "provenance": []
  },
  "kernelspec": {
   "display_name": "Python 3",
   "language": "python",
   "name": "python3"
  },
  "language_info": {
   "codemirror_mode": {
    "name": "ipython",
    "version": 3
   },
   "file_extension": ".py",
   "mimetype": "text/x-python",
   "name": "python",
   "nbconvert_exporter": "python",
   "pygments_lexer": "ipython3",
   "version": "3.7.10"
  }
 },
 "nbformat": 4,
 "nbformat_minor": 1
}
