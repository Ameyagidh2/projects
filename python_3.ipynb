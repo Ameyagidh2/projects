{
  "nbformat": 4,
  "nbformat_minor": 0,
  "metadata": {
    "colab": {
      "name": "python 3.ipynb",
      "provenance": []
    },
    "kernelspec": {
      "name": "python3",
      "display_name": "Python 3"
    }
  },
  "cells": [
    {
      "cell_type": "code",
      "metadata": {
        "colab": {
          "base_uri": "https://localhost:8080/"
        },
        "id": "rHNhLq0jLbmW",
        "outputId": "0fbda184-01b1-4119-ca33-27de869d5b61"
      },
      "source": [
        "i = 1 \r\n",
        "while i<=5:\r\n",
        "  print('*' * i)\r\n",
        "  i += 1 #(i = i + 1)\r\n",
        "print('Done')"
      ],
      "execution_count": 2,
      "outputs": [
        {
          "output_type": "stream",
          "text": [
            "*\n",
            "**\n",
            "***\n",
            "****\n",
            "*****\n",
            "Done\n"
          ],
          "name": "stdout"
        }
      ]
    },
    {
      "cell_type": "code",
      "metadata": {
        "colab": {
          "base_uri": "https://localhost:8080/"
        },
        "id": "jCsUVzTGModw",
        "outputId": "283aec8c-d28d-48b5-e841-78ae9de4fe23"
      },
      "source": [
        "for i in range(10,20):\r\n",
        "  print(i)"
      ],
      "execution_count": 3,
      "outputs": [
        {
          "output_type": "stream",
          "text": [
            "10\n",
            "11\n",
            "12\n",
            "13\n",
            "14\n",
            "15\n",
            "16\n",
            "17\n",
            "18\n",
            "19\n"
          ],
          "name": "stdout"
        }
      ]
    },
    {
      "cell_type": "code",
      "metadata": {
        "colab": {
          "base_uri": "https://localhost:8080/"
        },
        "id": "F8YCHH6GNOdo",
        "outputId": "e2c816be-bf99-449e-e983-a4846f6290d0"
      },
      "source": [
        "for i in range(20,10,-3):\r\n",
        "  print(i)"
      ],
      "execution_count": 6,
      "outputs": [
        {
          "output_type": "stream",
          "text": [
            "20\n",
            "17\n",
            "14\n",
            "11\n"
          ],
          "name": "stdout"
        }
      ]
    },
    {
      "cell_type": "code",
      "metadata": {
        "colab": {
          "base_uri": "https://localhost:8080/"
        },
        "id": "N-vi1PMSNbyK",
        "outputId": "0e26d4cd-b707-4190-b95d-ca50b4f3ce03"
      },
      "source": [
        "prices = [20, 30, 25, 40, 35]\r\n",
        "total = 0\r\n",
        "for i in prices:\r\n",
        "  total += i\r\n",
        "  print(total)"
      ],
      "execution_count": 11,
      "outputs": [
        {
          "output_type": "stream",
          "text": [
            "20\n",
            "50\n",
            "75\n",
            "115\n",
            "150\n"
          ],
          "name": "stdout"
        }
      ]
    },
    {
      "cell_type": "code",
      "metadata": {
        "colab": {
          "base_uri": "https://localhost:8080/"
        },
        "id": "H7COAjwEOtjr",
        "outputId": "05abc071-0abb-4a9f-ddc2-b9659a44b640"
      },
      "source": [
        "for x in range(4):\r\n",
        "  for y in range(4):\r\n",
        "    print(f'{x},{y}')"
      ],
      "execution_count": 12,
      "outputs": [
        {
          "output_type": "stream",
          "text": [
            "0,0\n",
            "0,1\n",
            "0,2\n",
            "0,3\n",
            "1,0\n",
            "1,1\n",
            "1,2\n",
            "1,3\n",
            "2,0\n",
            "2,1\n",
            "2,2\n",
            "2,3\n",
            "3,0\n",
            "3,1\n",
            "3,2\n",
            "3,3\n"
          ],
          "name": "stdout"
        }
      ]
    },
    {
      "cell_type": "code",
      "metadata": {
        "colab": {
          "base_uri": "https://localhost:8080/"
        },
        "id": "sGqoW4sAP3I9",
        "outputId": "6d209316-05f3-4940-ec73-32ea71238e5f"
      },
      "source": [
        "import math\r\n",
        "math.floor(2.5)"
      ],
      "execution_count": 13,
      "outputs": [
        {
          "output_type": "execute_result",
          "data": {
            "text/plain": [
              "2"
            ]
          },
          "metadata": {
            "tags": []
          },
          "execution_count": 13
        }
      ]
    },
    {
      "cell_type": "code",
      "metadata": {
        "colab": {
          "base_uri": "https://localhost:8080/"
        },
        "id": "-S8XMtPtRDNA",
        "outputId": "0b35ed43-dbfd-4cad-89c7-a62f66ef6ff6"
      },
      "source": [
        "math.ceil(2.5)"
      ],
      "execution_count": 14,
      "outputs": [
        {
          "output_type": "execute_result",
          "data": {
            "text/plain": [
              "3"
            ]
          },
          "metadata": {
            "tags": []
          },
          "execution_count": 14
        }
      ]
    },
    {
      "cell_type": "code",
      "metadata": {
        "colab": {
          "base_uri": "https://localhost:8080/"
        },
        "id": "mSaa0XY_RGnz",
        "outputId": "7b030334-aa53-4470-f977-a1d21cae14a9"
      },
      "source": [
        "def greet_user():\r\n",
        "  print('Hi There')\r\n",
        "  print('Good Morning')\r\n",
        "\r\n",
        "print('Start')\r\n",
        "greet_user()\r\n",
        "print('Stop')"
      ],
      "execution_count": 16,
      "outputs": [
        {
          "output_type": "stream",
          "text": [
            "Start\n",
            "Hi There\n",
            "Good Morning\n",
            "Stop\n"
          ],
          "name": "stdout"
        }
      ]
    },
    {
      "cell_type": "code",
      "metadata": {
        "colab": {
          "base_uri": "https://localhost:8080/"
        },
        "id": "Jf_p6Lz7S9HO",
        "outputId": "ccaebfbe-7d4a-48e3-9066-748efc38c9cb"
      },
      "source": [
        "def greet_user(name):\r\n",
        "  print(f'Hi {name}')\r\n",
        "  print(\"Good Morning\")\r\n",
        "  print(f'Goodbye {name}')\r\n",
        "\r\n",
        "print('start')\r\n",
        "greet_user(\"Rahul\")\r\n",
        "print('stop')"
      ],
      "execution_count": 17,
      "outputs": [
        {
          "output_type": "stream",
          "text": [
            "start\n",
            "Hi Rahul\n",
            "Good Morning\n",
            "Goodbye Rahul\n",
            "stop\n"
          ],
          "name": "stdout"
        }
      ]
    },
    {
      "cell_type": "code",
      "metadata": {
        "id": "aWCfZNAZTx31"
      },
      "source": [
        "list1 = [\"Harsh\", \"Nikita\", \"Sanjana\", \"Vasanth\", 20, 30, True]"
      ],
      "execution_count": 24,
      "outputs": []
    },
    {
      "cell_type": "code",
      "metadata": {
        "colab": {
          "base_uri": "https://localhost:8080/"
        },
        "id": "jUXM5WSDUj5e",
        "outputId": "82034ea9-bef4-409a-d3a3-4f9cb4201eb2"
      },
      "source": [
        "list1"
      ],
      "execution_count": 22,
      "outputs": [
        {
          "output_type": "execute_result",
          "data": {
            "text/plain": [
              "['Harsh', 'Nikita', 'Sanjana', 'Vasanth', 20, 30]"
            ]
          },
          "metadata": {
            "tags": []
          },
          "execution_count": 22
        }
      ]
    },
    {
      "cell_type": "code",
      "metadata": {
        "colab": {
          "base_uri": "https://localhost:8080/"
        },
        "id": "dluwEtU0UkvQ",
        "outputId": "3f346b5e-4a9d-4b3c-b78d-5a217cff2778"
      },
      "source": [
        "type(list1)"
      ],
      "execution_count": 25,
      "outputs": [
        {
          "output_type": "execute_result",
          "data": {
            "text/plain": [
              "list"
            ]
          },
          "metadata": {
            "tags": []
          },
          "execution_count": 25
        }
      ]
    },
    {
      "cell_type": "code",
      "metadata": {
        "colab": {
          "base_uri": "https://localhost:8080/",
          "height": 135
        },
        "id": "QNPUCg_wUm57",
        "outputId": "fcf2ab06-f06d-4c8e-e76f-f7ba2fc41f0d"
      },
      "source": [
        "1list = [20,20,\"liq\"]"
      ],
      "execution_count": 26,
      "outputs": [
        {
          "output_type": "error",
          "ename": "SyntaxError",
          "evalue": "ignored",
          "traceback": [
            "\u001b[0;36m  File \u001b[0;32m\"<ipython-input-26-cc78f7633337>\"\u001b[0;36m, line \u001b[0;32m1\u001b[0m\n\u001b[0;31m    1list = [20,20,\"liq\"]\u001b[0m\n\u001b[0m        ^\u001b[0m\n\u001b[0;31mSyntaxError\u001b[0m\u001b[0;31m:\u001b[0m invalid syntax\n"
          ]
        }
      ]
    },
    {
      "cell_type": "code",
      "metadata": {
        "colab": {
          "base_uri": "https://localhost:8080/",
          "height": 35
        },
        "id": "-Oq9VFtWU_rT",
        "outputId": "6095e840-9b45-47fc-b03b-168b2f136436"
      },
      "source": [
        "list1[0]"
      ],
      "execution_count": 27,
      "outputs": [
        {
          "output_type": "execute_result",
          "data": {
            "application/vnd.google.colaboratory.intrinsic+json": {
              "type": "string"
            },
            "text/plain": [
              "'Harsh'"
            ]
          },
          "metadata": {
            "tags": []
          },
          "execution_count": 27
        }
      ]
    },
    {
      "cell_type": "code",
      "metadata": {
        "colab": {
          "base_uri": "https://localhost:8080/"
        },
        "id": "Ro2YKefEVMOE",
        "outputId": "14520996-3565-4402-d5e3-0f402b78dcdd"
      },
      "source": [
        "list1[6]"
      ],
      "execution_count": 28,
      "outputs": [
        {
          "output_type": "execute_result",
          "data": {
            "text/plain": [
              "True"
            ]
          },
          "metadata": {
            "tags": []
          },
          "execution_count": 28
        }
      ]
    },
    {
      "cell_type": "code",
      "metadata": {
        "id": "e7Zuc_jEVPi5"
      },
      "source": [
        "list1[6] = 'Liq'"
      ],
      "execution_count": 29,
      "outputs": []
    },
    {
      "cell_type": "code",
      "metadata": {
        "colab": {
          "base_uri": "https://localhost:8080/"
        },
        "id": "TeiVlSk8VYQj",
        "outputId": "182ae2cb-fa59-47c4-da2e-d5dd08aae6f1"
      },
      "source": [
        "list1"
      ],
      "execution_count": 30,
      "outputs": [
        {
          "output_type": "execute_result",
          "data": {
            "text/plain": [
              "['Harsh', 'Nikita', 'Sanjana', 'Vasanth', 20, 30, 'Liq']"
            ]
          },
          "metadata": {
            "tags": []
          },
          "execution_count": 30
        }
      ]
    },
    {
      "cell_type": "code",
      "metadata": {
        "id": "dMNngS1uVZRx"
      },
      "source": [
        "numbers = [3,4,2,7,4]\r\n",
        "numbers.sort()"
      ],
      "execution_count": 31,
      "outputs": []
    },
    {
      "cell_type": "code",
      "metadata": {
        "colab": {
          "base_uri": "https://localhost:8080/"
        },
        "id": "DqgSheFyVuwI",
        "outputId": "86e0f5d3-8e34-4c82-fd7b-b9cf2f8b1fe1"
      },
      "source": [
        "numbers"
      ],
      "execution_count": 32,
      "outputs": [
        {
          "output_type": "execute_result",
          "data": {
            "text/plain": [
              "[2, 3, 4, 4, 7]"
            ]
          },
          "metadata": {
            "tags": []
          },
          "execution_count": 32
        }
      ]
    },
    {
      "cell_type": "code",
      "metadata": {
        "id": "KeZBCnYzVv4c"
      },
      "source": [
        "numbers.reverse()"
      ],
      "execution_count": 33,
      "outputs": []
    },
    {
      "cell_type": "code",
      "metadata": {
        "colab": {
          "base_uri": "https://localhost:8080/"
        },
        "id": "n7UKqWsQV0Xy",
        "outputId": "9d00f54a-b527-4a5b-9556-cf2e34461f95"
      },
      "source": [
        "numbers"
      ],
      "execution_count": 34,
      "outputs": [
        {
          "output_type": "execute_result",
          "data": {
            "text/plain": [
              "[7, 4, 4, 3, 2]"
            ]
          },
          "metadata": {
            "tags": []
          },
          "execution_count": 34
        }
      ]
    },
    {
      "cell_type": "code",
      "metadata": {
        "id": "HqslE9oEV4xG"
      },
      "source": [
        "con_list = list1 + numbers"
      ],
      "execution_count": 35,
      "outputs": []
    },
    {
      "cell_type": "code",
      "metadata": {
        "colab": {
          "base_uri": "https://localhost:8080/"
        },
        "id": "Di5vpjx5WIIZ",
        "outputId": "255d28dd-8442-40c0-8975-1c674b19882f"
      },
      "source": [
        "con_list"
      ],
      "execution_count": 36,
      "outputs": [
        {
          "output_type": "execute_result",
          "data": {
            "text/plain": [
              "['Harsh', 'Nikita', 'Sanjana', 'Vasanth', 20, 30, 'Liq', 7, 4, 4, 3, 2]"
            ]
          },
          "metadata": {
            "tags": []
          },
          "execution_count": 36
        }
      ]
    },
    {
      "cell_type": "code",
      "metadata": {
        "colab": {
          "base_uri": "https://localhost:8080/",
          "height": 171
        },
        "id": "LBb9q09LWJYo",
        "outputId": "6314485a-abd5-4de2-af48-08280e5ea323"
      },
      "source": [
        "con_list.sort()"
      ],
      "execution_count": 37,
      "outputs": [
        {
          "output_type": "error",
          "ename": "TypeError",
          "evalue": "ignored",
          "traceback": [
            "\u001b[0;31m---------------------------------------------------------------------------\u001b[0m",
            "\u001b[0;31mTypeError\u001b[0m                                 Traceback (most recent call last)",
            "\u001b[0;32m<ipython-input-37-05b7aeb43181>\u001b[0m in \u001b[0;36m<module>\u001b[0;34m()\u001b[0m\n\u001b[0;32m----> 1\u001b[0;31m \u001b[0mcon_list\u001b[0m\u001b[0;34m.\u001b[0m\u001b[0msort\u001b[0m\u001b[0;34m(\u001b[0m\u001b[0;34m)\u001b[0m\u001b[0;34m\u001b[0m\u001b[0;34m\u001b[0m\u001b[0m\n\u001b[0m",
            "\u001b[0;31mTypeError\u001b[0m: '<' not supported between instances of 'int' and 'str'"
          ]
        }
      ]
    },
    {
      "cell_type": "code",
      "metadata": {
        "id": "DQs6Ky25WcqP"
      },
      "source": [
        "multi_d = [[\"Manish\", \"vishal\"],[20, 30]]"
      ],
      "execution_count": 38,
      "outputs": []
    },
    {
      "cell_type": "code",
      "metadata": {
        "colab": {
          "base_uri": "https://localhost:8080/"
        },
        "id": "nw1yYLJsWuww",
        "outputId": "e607ce24-1543-4c26-e02c-0fb3d2e8b599"
      },
      "source": [
        "type(multi_d)"
      ],
      "execution_count": 39,
      "outputs": [
        {
          "output_type": "execute_result",
          "data": {
            "text/plain": [
              "list"
            ]
          },
          "metadata": {
            "tags": []
          },
          "execution_count": 39
        }
      ]
    },
    {
      "cell_type": "code",
      "metadata": {
        "colab": {
          "base_uri": "https://localhost:8080/"
        },
        "id": "iG3nTROvWxXp",
        "outputId": "7d1e8cc8-862a-4814-ddcd-38001b7a50ae"
      },
      "source": [
        "multi_d[1][0]"
      ],
      "execution_count": 40,
      "outputs": [
        {
          "output_type": "execute_result",
          "data": {
            "text/plain": [
              "20"
            ]
          },
          "metadata": {
            "tags": []
          },
          "execution_count": 40
        }
      ]
    },
    {
      "cell_type": "code",
      "metadata": {
        "id": "IKt9tyuWW994"
      },
      "source": [
        "tup = (20,30,40)"
      ],
      "execution_count": 41,
      "outputs": []
    },
    {
      "cell_type": "code",
      "metadata": {
        "colab": {
          "base_uri": "https://localhost:8080/",
          "height": 171
        },
        "id": "ICX5z3b8XKnF",
        "outputId": "535ab92b-473c-4eea-8049-e171d8023e1b"
      },
      "source": [
        "tup[0] = 10"
      ],
      "execution_count": 42,
      "outputs": [
        {
          "output_type": "error",
          "ename": "TypeError",
          "evalue": "ignored",
          "traceback": [
            "\u001b[0;31m---------------------------------------------------------------------------\u001b[0m",
            "\u001b[0;31mTypeError\u001b[0m                                 Traceback (most recent call last)",
            "\u001b[0;32m<ipython-input-42-6721ba2e65ef>\u001b[0m in \u001b[0;36m<module>\u001b[0;34m()\u001b[0m\n\u001b[0;32m----> 1\u001b[0;31m \u001b[0mtup\u001b[0m\u001b[0;34m[\u001b[0m\u001b[0;36m0\u001b[0m\u001b[0;34m]\u001b[0m \u001b[0;34m=\u001b[0m \u001b[0;36m10\u001b[0m\u001b[0;34m\u001b[0m\u001b[0;34m\u001b[0m\u001b[0m\n\u001b[0m",
            "\u001b[0;31mTypeError\u001b[0m: 'tuple' object does not support item assignment"
          ]
        }
      ]
    },
    {
      "cell_type": "code",
      "metadata": {
        "colab": {
          "base_uri": "https://localhost:8080/"
        },
        "id": "nVzJcNhfXNme",
        "outputId": "83389c2f-dd5f-4b56-cc7a-80b4516165e5"
      },
      "source": [
        "type(tup)"
      ],
      "execution_count": 43,
      "outputs": [
        {
          "output_type": "execute_result",
          "data": {
            "text/plain": [
              "tuple"
            ]
          },
          "metadata": {
            "tags": []
          },
          "execution_count": 43
        }
      ]
    },
    {
      "cell_type": "code",
      "metadata": {
        "id": "8UK8DFj6XR0-"
      },
      "source": [
        ""
      ],
      "execution_count": null,
      "outputs": []
    }
  ]
}